{
 "cells": [
  {
   "cell_type": "markdown",
   "id": "35f4d8fb-61fa-4c9d-901a-2a5b4983b39d",
   "metadata": {},
   "source": [
    "\n",
    "1. What are 3 advantages of deploying using Model Serving methods Vs. deploying on GitHub Pages or HuggingFace for free?\n",
    "\n",
    "__Answer__:\n",
    " - It can leverage online features and context to influence predictions.\n",
    " - It can easily incorporate new features on the serving time.\n",
    " - It can generate predictions on the data that has not been seen before.\n",
    " - Deploying is the process of putting the model into the server. Serving is the process of making a model accessible from the server (for example with REST API or web sockets)\n",
    "\n",
    "2. What is ML model deployment?\n",
    "\n",
    "__Answer__:\n",
    " - Model deployment is the process of implementing a fully functioning machine learning model into production where it can make predictions based on data. \n",
    "\n",
    "3. What is Causal Inference and How Does It Work?\n",
    "\n",
    "__Answer__:\n",
    " - Causal inference is a statistical technique that allows our AI and machine learning systems to think in the same way. We're looking at data from a network of servers and want to know how changes in our network settings affect latency, so we utilize causal inference to make informed decisions about our network settings.\n",
    " - \n",
    "\n",
    "4. What is serverless deployment and how its compared with deployment on server?\n",
    "\n",
    "__Answer__:\n",
    " - traditional servers have fixed resources that users need to provision for use. On the other hand, serverless computing does not have fixed resources, so it can run multiple applications from a single server. Developers no longer need to consider the servers for practical purposes\n",
    " - In serverless, it is a development model built for creating and running applications without the need for server management. They are provisioned, maintained, and scaled by a third-party cloud provider, while the developers just write and deploy the code.\n"
   ]
  },
  {
   "cell_type": "code",
   "execution_count": null,
   "id": "965db71e-28b1-4ecd-9e25-2f06aba4bd01",
   "metadata": {},
   "outputs": [],
   "source": []
  }
 ],
 "metadata": {
  "kernelspec": {
   "display_name": "Python 3",
   "language": "python",
   "name": "python3"
  },
  "language_info": {
   "codemirror_mode": {
    "name": "ipython",
    "version": 3
   },
   "file_extension": ".py",
   "mimetype": "text/x-python",
   "name": "python",
   "nbconvert_exporter": "python",
   "pygments_lexer": "ipython3",
   "version": "3.8.15"
  }
 },
 "nbformat": 4,
 "nbformat_minor": 5
}
